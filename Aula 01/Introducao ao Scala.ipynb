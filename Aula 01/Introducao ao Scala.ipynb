{
  "nbformat": 4,
  "nbformat_minor": 0,
  "metadata": {
    "colab": {
      "provenance": []
    },
    "kernelspec": {
      "name": "python3",
      "display_name": "Python 3"
    },
    "language_info": {
      "name": "python"
    }
  },
  "cells": [
    {
      "cell_type": "markdown",
      "source": [
        "#**Introducao ao Scala**\n",
        "\n",
        "**prof: Sergio Assuncao Monteiro, DSc**\n",
        "\n",
        "linkedin: https://www.linkedin.com/in/sergio-assun%C3%A7%C3%A3o-monteiro-b781897b/\n",
        "\n",
        "lattes: http://lattes.cnpq.br/9489191035734025"
      ],
      "metadata": {
        "id": "j_ViPOxNEH5v"
      }
    },
    {
      "cell_type": "markdown",
      "source": [
        "Todos os codigos deve ser executados em:\n",
        "\n",
        "https://scastie.scala-lang.org/"
      ],
      "metadata": {
        "id": "gt-zGZRPEKFe"
      }
    },
    {
      "cell_type": "markdown",
      "source": [
        "**Exemplo 01**"
      ],
      "metadata": {
        "id": "sJPwj9d2ERx-"
      }
    },
    {
      "cell_type": "code",
      "execution_count": null,
      "metadata": {
        "id": "yCHZZkIeEBC5"
      },
      "outputs": [],
      "source": [
        "object MinhaClasse {\n",
        "  def main(args: Array[String]): Unit = {\n",
        "    println(\"Olah, Scala!\")\n",
        "  }\n",
        "}"
      ]
    },
    {
      "cell_type": "markdown",
      "source": [
        "**Exemplo 02**"
      ],
      "metadata": {
        "id": "mT2H7BTSET2V"
      }
    },
    {
      "cell_type": "code",
      "source": [
        "object MinhaClasse {\n",
        "    def main(args: Array[String]): Unit = {\n",
        "        println(\"valor: \" + 1)               // Este é um comentário: imprime o valor 1\n",
        "        println(\"resultado: \" +(1 + 1 * 3 + 9/2)) // Este é um comentário: faz a soma de a função imprime o valor 1\n",
        "        println(\"Este é um exemplo.\") // exemplo para imprimir mensagem\n",
        "        println(\"Este é um exemplo de\" + \" contatenação.\") // exemplo de concatenação\n",
        "    }\n",
        "}\n"
      ],
      "metadata": {
        "id": "G5ONZs7xEVx-"
      },
      "execution_count": null,
      "outputs": []
    },
    {
      "cell_type": "markdown",
      "source": [
        "**Exemplo 03**"
      ],
      "metadata": {
        "id": "wYjV1MFXEWIO"
      }
    },
    {
      "cell_type": "code",
      "source": [
        "object MinhaClasse {\n",
        "    def main(args: Array[String]): Unit =  {\n",
        "        var x = 1 + 1     //variável e atribuição\n",
        "        println(\"x: \" + x)\n",
        "        x = 3              //atribuição correta.\n",
        "        println(\"x: \" + x)\n",
        "        x = x * x\n",
        "        println(\"x: \" + x)\n",
        "        var w: Int = 1 + 1 //variável com tipo\n",
        "        println(\"w: \" + w)\n",
        "    }\n",
        "}\n"
      ],
      "metadata": {
        "id": "Gf85VLYLEYIe"
      },
      "execution_count": null,
      "outputs": []
    },
    {
      "cell_type": "markdown",
      "source": [
        "**Exemplo 04**"
      ],
      "metadata": {
        "id": "h7aLY2YIEYlG"
      }
    },
    {
      "cell_type": "code",
      "source": [
        "object MinhaClasse {\n",
        "    def main(args: Array[String]): Unit =  {\n",
        "        var x: Int = 10 + 20     //variável e atribuição\n",
        "        println(\"x: \" + x)\n",
        "        val somaUm = (x: Int) => x + 1  //função anônima\n",
        "        println(\"somaUm(1): \"+somaUm(1)) // chamada da função\n",
        "        val soma = (x: Int, y: Int) => x + y\n",
        "        println(\"soma(1, 2): \"+soma(1, 2)) // chamada da função\n",
        "        val resultadoFixo = () => 49\n",
        "        println(\"resultadoFixo(): \"+resultadoFixo())\n",
        "    }\n",
        "}\n"
      ],
      "metadata": {
        "id": "sfmy6-0gEZqu"
      },
      "execution_count": null,
      "outputs": []
    },
    {
      "cell_type": "markdown",
      "source": [
        "**Exemplo 05**"
      ],
      "metadata": {
        "id": "i1xiNNU2EaLu"
      }
    },
    {
      "cell_type": "code",
      "source": [
        "object MinhaClasse {\n",
        "    def soma(x: Int, y: Int): Int = x + y\n",
        "    def somarMultiplicar(x: Int, y: Int)(z: Int): Int = (x + y) * z\n",
        "    def obterQuadrado(numero: Double): String = {\n",
        "        val quadrado = numero * numero\n",
        "        quadrado.toString\n",
        "    }\n",
        "    def main(args: Array[String]): Unit =  {\n",
        "        var w: Int = 0\n",
        "        w = soma(1, 2)\n",
        "        println(\"w: \" + w)\n",
        "        w = somarMultiplicar(1, 2)(5)\n",
        "        println(\"w: \" + w)\n",
        "        println(obterQuadrado(1.5))\n",
        "    }\n",
        "}\n"
      ],
      "metadata": {
        "id": "_Rle2qcSEbUm"
      },
      "execution_count": null,
      "outputs": []
    },
    {
      "cell_type": "markdown",
      "source": [
        "**Exemplo 06**"
      ],
      "metadata": {
        "id": "TX-4pMiLEbsF"
      }
    },
    {
      "cell_type": "code",
      "source": [
        "class ManipularDados(prefixo: String, sufixo: String) {\n",
        "  def concatenar_nomes(nome: String): Unit =\n",
        "    println(prefixo +\" \"+ nome +\" \"+ sufixo)\n",
        "}\n",
        "object MinhaClasse {\n",
        "    def main(args: Array[String]): Unit =  {\n",
        "        val objeto_concatenar = new ManipularDados(\"Primeiro\", \"Terceiro\")\n",
        "        objeto_concatenar.concatenar_nomes(\"Segundo\")\n",
        "    }\n",
        "}\n"
      ],
      "metadata": {
        "id": "4jBUAcbLEc9N"
      },
      "execution_count": null,
      "outputs": []
    },
    {
      "cell_type": "markdown",
      "source": [
        "**Exemplo 07**"
      ],
      "metadata": {
        "id": "5AFQAdOsEdO8"
      }
    },
    {
      "cell_type": "code",
      "source": [
        "object MinhaClasse {\n",
        "    def main(args: Array[String]): Unit =  {\n",
        "        val lista: List[Any] = List(\"exemplo\",//string\n",
        "        100,  // inteiro\n",
        "        'c',  // caracter\n",
        "        true) // boolean\n",
        "        lista.foreach(elemento => println(elemento))\n",
        "    }\n",
        "}\n"
      ],
      "metadata": {
        "id": "ajHxny_1Eex1"
      },
      "execution_count": null,
      "outputs": []
    },
    {
      "cell_type": "markdown",
      "source": [
        "**Exemplo 08**"
      ],
      "metadata": {
        "id": "OPjfdslREfSF"
      }
    },
    {
      "cell_type": "code",
      "source": [
        "class Ponto(var x: Int, var y: Int) {\n",
        "  def move(dx: Int, dy: Int): Unit = {\n",
        "    x = x + dx\n",
        "    y = y + dy\n",
        "  }\n",
        "  override def toString: String =\n",
        "    s\"($x, $y)\"\n",
        "}\n",
        "\n",
        "object MinhaClasse {\n",
        "    def main(args: Array[String]): Unit =  {\n",
        "        val ponto = new Ponto(10, 30)\n",
        "        println(ponto.x)\n",
        "        println(ponto)\n",
        "    }\n",
        "}\n"
      ],
      "metadata": {
        "id": "wUdCR5MKEgY9"
      },
      "execution_count": null,
      "outputs": []
    },
    {
      "cell_type": "markdown",
      "source": [
        "**Exemplo 09**"
      ],
      "metadata": {
        "id": "cdN0wMMWEgzV"
      }
    },
    {
      "cell_type": "code",
      "source": [
        "trait Iterator[A] {\n",
        "  def hasNext: Boolean\n",
        "  def next(): A\n",
        "}\n",
        "\n",
        "class IntIterator(to: Int) extends Iterator[Int] {\n",
        "  private var current = 0\n",
        "  override def hasNext: Boolean = current < to\n",
        "  override def next(): Int = {\n",
        "    if (hasNext) {\n",
        "      val t = current\n",
        "      current += 1\n",
        "      t\n",
        "    } else 0\n",
        "  }\n",
        "}\n",
        "\n",
        "object MinhaClasse {\n",
        "    def main(args: Array[String]): Unit =  {\n",
        "        var x: Int = 0\n",
        "        val iterator = new IntIterator(10)\n",
        "        x = iterator.next()\n",
        "        println(\"x = \" + x)  // returns 0\n",
        "        x = iterator.next()\n",
        "        println(\"x = \" + x)  // returns 1\n",
        "    }\n",
        "}\n"
      ],
      "metadata": {
        "id": "AHMvAC8dEh29"
      },
      "execution_count": null,
      "outputs": []
    },
    {
      "cell_type": "markdown",
      "source": [
        "**Exemplo 10**"
      ],
      "metadata": {
        "id": "3zmRbVWrEiRM"
      }
    },
    {
      "cell_type": "code",
      "source": [
        "object MinhaClasse {\n",
        "    def fatorial(x: Int): Int = {\n",
        "        if (x <= 1) return 1\n",
        "        else x*fatorial(x - 1)\n",
        "    }\n",
        "\n",
        "    def main(args: Array[String]): Unit =  {\n",
        "        var x: Int = 0\n",
        "        x = fatorial(2)\n",
        "        println(\"Fatorial:\" + x)\n",
        "        x = fatorial(5)\n",
        "        println(\"Fatorial:\" + x)\n",
        "    }\n",
        "}\n"
      ],
      "metadata": {
        "id": "pWk8x-PEEjUU"
      },
      "execution_count": null,
      "outputs": []
    },
    {
      "cell_type": "markdown",
      "source": [
        "**Exemplo 11**"
      ],
      "metadata": {
        "id": "0Acj9SfDG-9j"
      }
    },
    {
      "cell_type": "code",
      "source": [
        "object MinhaClasse {\n",
        "    def somatorio(x: Array[Double]): Double = {\n",
        "      var total: Double = 0.0;\n",
        "      for ( i <- 0 to (x.length - 1)) {\n",
        "         total += x(i);\n",
        "      }\n",
        "      return total;\n",
        "    }\n",
        "\n",
        "    def somatorio_pares(x: Array[Double]): Double = {\n",
        "      var total: Double = 0.0;\n",
        "      for ( i <- 0 to (x.length - 1)) {\n",
        "          if(x(i) % 2 == 0)\n",
        "            total += x(i);\n",
        "      }\n",
        "      return total;\n",
        "    }\n",
        "\n",
        "    def maximo(x: Array[Double]): Double = {\n",
        "      var maior = x(0);\n",
        "      for ( i <- 1 to (x.length - 1) ) {\n",
        "         if (x(i) > maior) maior = x(i);\n",
        "      }\n",
        "      return maior;\n",
        "    }\n",
        "\n",
        "   def main(args: Array[String]): Unit =  {\n",
        "      var lista = Array(1.9, 2.9, 3.4, 3.5)\n",
        "      for ( x <- lista ) {\n",
        "         println( x )\n",
        "      }\n",
        "      var total = somatorio(lista);\n",
        "      println(\"Total é \" + total);\n",
        "\n",
        "      var total_pares = somatorio_pares(lista);\n",
        "      println(\"Somatórios dos pares é \" + total_pares);\n",
        "\n",
        "      var max = maximo(lista)\n",
        "      println(\"Máximo é \" + max);\n",
        "   }\n",
        "}\n"
      ],
      "metadata": {
        "id": "nxsM8_GzHHWE"
      },
      "execution_count": null,
      "outputs": []
    },
    {
      "cell_type": "markdown",
      "source": [
        "**Exemplo 12**"
      ],
      "metadata": {
        "id": "zFwINaheHIFT"
      }
    },
    {
      "cell_type": "code",
      "source": [
        "object MinhaClasse {\n",
        "\n",
        "    def somatorio_funcional(lista: List[Double]): Double = lista match {\n",
        "        case Nil => 0\n",
        "        case head :: tail => head + somatorio_funcional(tail)\n",
        "    }\n",
        "\n",
        "   def main(args: Array[String]): Unit =  {\n",
        "      var lista = List(1.9, 2.9, 3.4, 3.5)\n",
        "\n",
        "      var total = lista.sum;\n",
        "      println(\"Total é \" + total);\n",
        "\n",
        "      var total_funcional = somatorio_funcional(lista);\n",
        "      println(\"O somatório é \" + total_funcional);\n",
        "\n",
        "   }\n",
        "}\n"
      ],
      "metadata": {
        "id": "dRuQomxtHKHM"
      },
      "execution_count": null,
      "outputs": []
    }
  ]
}