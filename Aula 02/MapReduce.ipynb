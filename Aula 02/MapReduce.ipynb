{
  "nbformat": 4,
  "nbformat_minor": 0,
  "metadata": {
    "colab": {
      "provenance": []
    },
    "kernelspec": {
      "name": "python3",
      "display_name": "Python 3"
    },
    "language_info": {
      "name": "python"
    }
  },
  "cells": [
    {
      "cell_type": "markdown",
      "source": [
        "#**Introducao ao MapReduce**\n",
        "\n",
        "**prof: Sergio Assuncao Monteiro, DSc**\n",
        "\n",
        "linkedin: https://www.linkedin.com/in/sergio-assun%C3%A7%C3%A3o-monteiro-b781897b/\n",
        "\n",
        "lattes: http://lattes.cnpq.br/9489191035734025"
      ],
      "metadata": {
        "id": "dy0WQlTAKjpK"
      }
    },
    {
      "cell_type": "markdown",
      "source": [
        "# **Exemplo 01**: conta as ocorrências de cada palavra em um documento de texto."
      ],
      "metadata": {
        "id": "fhtlhMaRKkjZ"
      }
    },
    {
      "cell_type": "code",
      "execution_count": 9,
      "metadata": {
        "colab": {
          "base_uri": "https://localhost:8080/"
        },
        "id": "oj0jnXEUKi04",
        "outputId": "1b4cf865-d4f1-49b5-e611-1931cd196924"
      },
      "outputs": [
        {
          "output_type": "stream",
          "name": "stdout",
          "text": [
            "Sem MapReduce =Counter({'Este': 2, 'é': 2, 'um': 2, 'exemplo': 1, 'simples.': 1, 'documento': 1, 'de': 1, 'texto.': 1})\n",
            "Com MapReduce =Counter({'Este': 2, 'é': 2, 'um': 2, 'exemplo': 1, 'simples.': 1, 'documento': 1, 'de': 1, 'texto.': 1})\n"
          ]
        }
      ],
      "source": [
        "from functools import reduce\n",
        "from collections import Counter\n",
        "\n",
        "texto = \"Este é um exemplo simples. Este é um documento de texto.\"\n",
        "\n",
        "palavras = texto.split()\n",
        "qtd_palavras = Counter(palavras)\n",
        "\n",
        "# Usando MapReduce\n",
        "qtd_palavras_reduce = reduce(lambda x, y: x + y, map(lambda x: Counter([x]), palavras))\n",
        "\n",
        "print(f'Sem MapReduce ={qtd_palavras}')\n",
        "print(f'Com MapReduce ={qtd_palavras_reduce}')\n"
      ]
    },
    {
      "cell_type": "markdown",
      "source": [
        "# **Exemplo 02:** Encontre o valor máximo em uma lista usando MapReduce."
      ],
      "metadata": {
        "id": "p4wF8foXLCSh"
      }
    },
    {
      "cell_type": "code",
      "source": [
        "from functools import reduce\n",
        "\n",
        "lst_numeros = [31, 25, 27, 76, 56, 23, 81, 43, 92, 10]\n",
        "\n",
        "# Usando MapReduce\n",
        "maior_valor = reduce(lambda x, y: x if x > y else y, lst_numeros)\n",
        "\n",
        "print(f'O maior valor é: {maior_valor}')\n"
      ],
      "metadata": {
        "colab": {
          "base_uri": "https://localhost:8080/"
        },
        "id": "GuCerGYQLKrf",
        "outputId": "96edf448-893f-4c08-ca53-bdd54f56703b"
      },
      "execution_count": 10,
      "outputs": [
        {
          "output_type": "stream",
          "name": "stdout",
          "text": [
            "O maior valor é: 92\n"
          ]
        }
      ]
    },
    {
      "cell_type": "markdown",
      "source": [
        "# **Exemplo 03:** Calcule a soma de todos os elementos em uma lista."
      ],
      "metadata": {
        "id": "ER83U7ROOAyW"
      }
    },
    {
      "cell_type": "code",
      "source": [
        "from functools import reduce\n",
        "\n",
        "lst_numeros = [31, 25, 27, 76, 56, 23, 81, 43, 92, 10]\n",
        "\n",
        "# Usando MapReduce\n",
        "sum_result = reduce(lambda x, y: x + y, lst_numeros)\n",
        "\n",
        "print(sum_result)\n"
      ],
      "metadata": {
        "colab": {
          "base_uri": "https://localhost:8080/"
        },
        "id": "J-6WJCLNOIuu",
        "outputId": "fe17d95e-1e5b-48f3-f6d9-50ae0c7c0797"
      },
      "execution_count": 11,
      "outputs": [
        {
          "output_type": "stream",
          "name": "stdout",
          "text": [
            "464\n"
          ]
        }
      ]
    },
    {
      "cell_type": "markdown",
      "source": [
        "# **Exemplo 04:** Calcule a soma dos quadrados para uma lista de números."
      ],
      "metadata": {
        "id": "Euk7s-oMLOiZ"
      }
    },
    {
      "cell_type": "code",
      "source": [
        "from functools import reduce\n",
        "\n",
        "lst_numeros = [31, 25, 27, 76, 56, 23, 81, 43, 92, 10]\n",
        "\n",
        "# Usando MapReduce\n",
        "soma_quadrados = reduce(lambda x, y: x + y, map(lambda x: x**2, lst_numeros))\n",
        "\n",
        "print(f'O somatório dos quadrados dos elementos da lista é: {soma_quadrados}')\n"
      ],
      "metadata": {
        "colab": {
          "base_uri": "https://localhost:8080/"
        },
        "id": "j8CUtP67LRZo",
        "outputId": "e4196c00-29e5-4985-c40f-9406c9fbb41f"
      },
      "execution_count": 12,
      "outputs": [
        {
          "output_type": "stream",
          "name": "stdout",
          "text": [
            "O somatório dos quadrados dos elementos da lista é: 28730\n"
          ]
        }
      ]
    },
    {
      "cell_type": "markdown",
      "source": [
        "# **Exemplo 05:** Gere os primeiros n números na sequência de Fibonacci usando MapReduce."
      ],
      "metadata": {
        "id": "fF7DfxY4NqS1"
      }
    },
    {
      "cell_type": "code",
      "source": [
        "from functools import reduce\n",
        "\n",
        "n = 10\n",
        "\n",
        "# Usando MapReduce\n",
        "fibonacci = reduce(lambda x, _: x + [x[-1] + x[-2]], range(n-2), [0, 1])\n",
        "\n",
        "print(fibonacci)\n"
      ],
      "metadata": {
        "colab": {
          "base_uri": "https://localhost:8080/"
        },
        "id": "O4NfhvPdN-TO",
        "outputId": "e3f86992-7b4b-481c-c607-89cff55f8cf6"
      },
      "execution_count": 13,
      "outputs": [
        {
          "output_type": "stream",
          "name": "stdout",
          "text": [
            "[0, 1, 1, 2, 3, 5, 8, 13, 21, 34]\n"
          ]
        }
      ]
    }
  ]
}